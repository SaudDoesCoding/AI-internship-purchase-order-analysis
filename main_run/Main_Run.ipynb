{
 "cells": [
  {
   "cell_type": "code",
   "execution_count": null,
   "id": "5491a1b1-60bc-4801-b4ef-7a0daeffae3e",
   "metadata": {},
   "outputs": [],
   "source": [
    "# Step 0 : Importing neccessary libraries\n",
    "import pandas as pd\n",
    "import numpy as np\n",
    "import matplotlib.pyplot as plt\n",
    "import seaborn as sns\n",
    "import nltk \n",
    "from nltk.corpus import stopwords\n",
    "import spacy\n",
    "from langdetect import detect\n",
    "import arabic_reshaper\n",
    "from bidi.algorithm import get_display\n",
    "import regex as re \n",
    "from sklearn.feature_extraction.text import TfidfVectorizer\n",
    "from sklearn.cluster import KMeans\n"
   ]
  },
  {
   "cell_type": "code",
   "execution_count": null,
   "id": "cc103c4a-1c40-4c93-86dd-1c0b7733fee5",
   "metadata": {},
   "outputs": [],
   "source": [
    "# Step 1: Loading the data \n",
    "data = pd.read_excel(\"purchase-order-items.xlsx\")\n",
    "print(\"Shape:\", data.shape)\n",
    "data.head()\n"
   ]
  },
  {
   "cell_type": "code",
   "execution_count": null,
   "id": "35712338-600a-4093-9ea4-f80bbbe6f7d4",
   "metadata": {},
   "outputs": [],
   "source": [
    "# Step 2: Dropping NaNs and ensure numeric values\n",
    "print(data.isna().sum)\n",
    "data = data.dropna(subset=[\"Item Name\"])\n",
    "data[\"Total Bcy\"] = pd.to_numeric(data[\"Total Bcy\"], errors='coerce')\n",
    "data = data.dropna(subset=[\"Total Bcy\"])\n"
   ]
  },
  {
   "cell_type": "code",
   "execution_count": null,
   "id": "d0ae7a27-8417-4d12-95ac-fa0ccea55c95",
   "metadata": {},
   "outputs": [],
   "source": [
    "# Step 3: Detecting the languages in the data sheet\n",
    "def detect_lang_group(text):\n",
    "    if not isinstance(text, str) or not text.strip():\n",
    "        return \"unknown\"\n",
    "    has_ar = bool(re.search(r'[\\u0600-\\u06FF]', text))\n",
    "    has_en = bool(re.search(r'[A-Za-z]', text))\n",
    "    if has_ar:\n",
    "        return \"ar\"\n",
    "    elif has_en:\n",
    "        return \"en\"\n",
    "    else:\n",
    "        return \"other\"\n",
    "\n",
    "data[\"lang_group\"] = data[\"Item Name\"].apply(detect_lang_group)\n",
    "print(data[\"lang_group\"].value_counts())\n"
   ]
  },
  {
   "cell_type": "code",
   "execution_count": null,
   "id": "6c509398-1789-43ca-af7a-d14485572e8d",
   "metadata": {},
   "outputs": [],
   "source": [
    "# Step 4: Clustering \n",
    "def cluster_group(df, col=\"Item Name\", n_clusters=5):\n",
    "    vectorizer = TfidfVectorizer(\n",
    "        analyzer=\"char\",\n",
    "        ngram_range=(3,4),\n",
    "        max_features=500\n",
    "    )\n",
    "    X = vectorizer.fit_transform(df[col])\n",
    "    kmeans = KMeans(n_clusters=n_clusters, random_state=42, n_init=5)\n",
    "    df[\"cluster\"] = kmeans.fit_predict(X)\n",
    "    return df\n",
    "\n",
    "arabic_df = cluster_group(data[data[\"lang_group\"] == \"ar\"].copy(), n_clusters=6)\n",
    "english_df = cluster_group(data[data[\"lang_group\"] == \"en\"].copy(), n_clusters=6)\n",
    "clustered = pd.concat([arabic_df, english_df])\n"
   ]
  },
  {
   "cell_type": "code",
   "execution_count": null,
   "id": "726825f6-414a-4475-a042-d61e8f4c8ffe",
   "metadata": {},
   "outputs": [],
   "source": [
    "# Step 5: Apply Clustering to Arabic and English Items\n",
    "arabic_df = cluster_group(data[data[\"lang_group\"] == \"ar\"].copy(), n_clusters=6)\n",
    "english_df = cluster_group(data[data[\"lang_group\"] == \"en\"].copy(), n_clusters=6)\n",
    "clustered = pd.concat([arabic_df, english_df])\n"
   ]
  },
  {
   "cell_type": "code",
   "execution_count": null,
   "id": "d3ab136d-432d-4452-b0ec-bc9d2b0f44cd",
   "metadata": {},
   "outputs": [],
   "source": [
    "# Step 6: Calculate Spend per Cluster\n",
    "arabic_spend = arabic_df.groupby(\"cluster\")[\"Total Bcy\"].sum()\n",
    "english_spend = english_df.groupby(\"cluster\")[\"Total Bcy\"].sum()\n",
    "\n",
    "print(\"\\nArabic Spend per Cluster:\")\n",
    "print(arabic_spend)\n",
    "print(\"\\nEnglish Spend per Cluster:\")\n",
    "print(english_spend)\n"
   ]
  },
  {
   "cell_type": "code",
   "execution_count": null,
   "id": "b598b1c4-6a05-4f19-a043-ab362ef239f0",
   "metadata": {},
   "outputs": [],
   "source": [
    "# Step 7: Visualize Spend by Cluster\n",
    "fig, axes = plt.subplots(1, 2, figsize=(16,5))\n",
    "arabic_spend.plot(kind=\"bar\", ax=axes[0], color=\"skyblue\", title=\"Arabic Spend by Cluster\")\n",
    "axes[0].set_xlabel(\"Cluster\")\n",
    "axes[0].set_ylabel(\"Total Bcy\")\n",
    "axes[0].grid(axis='y')\n",
    "\n",
    "english_spend.plot(kind=\"bar\", ax=axes[1], color=\"lightgreen\", title=\"English Spend by Cluster\")\n",
    "axes[1].set_xlabel(\"Cluster\")\n",
    "axes[1].set_ylabel(\"Total Bcy\")\n",
    "axes[1].grid(axis='y')\n",
    "\n",
    "plt.tight_layout()\n",
    "plt.show()\n"
   ]
  },
  {
   "cell_type": "code",
   "execution_count": null,
   "id": "f65a6530-1bb9-4846-86c1-bfc7f3ad33c2",
   "metadata": {},
   "outputs": [],
   "source": [
    "# Step 8: # Analyze Cluster Counts and Top Spend Clusters\n",
    "print(\"Arabic Cluster Counts:\")\n",
    "print(arabic_df[\"cluster\"].value_counts())\n",
    "print(\"\\nEnglish Cluster Counts:\")\n",
    "print(english_df[\"cluster\"].value_counts()) \n",
    "\n",
    "top_arabic_cluster = arabic_spend.idxmax()\n",
    "print(f\"Arabic cluster with highest spend: {top_arabic_cluster}, Amount: {arabic_spend.max()}\")\n",
    "\n",
    "top_english_cluster = english_spend.idxmax()\n",
    "print(f\"English cluster with highest spend: {top_english_cluster}, Amount: {english_spend.max()}\")\n"
   ]
  },
  {
   "cell_type": "code",
   "execution_count": null,
   "id": "296aed8b-9316-438f-bfc9-caaff6ad2e9f",
   "metadata": {},
   "outputs": [],
   "source": [
    "# Step 9: Inspect the top items \n",
    "print(\"Top Arabic cluster items:\")\n",
    "print(arabic_df[arabic_df[\"cluster\"] == top_arabic_cluster][[\"Item Name\", \"Total Bcy\"]].head(10))\n",
    "print(\"\\nTop English cluster items:\")\n",
    "print(english_df[english_df[\"cluster\"] == top_english_cluster][[\"Item Name\", \"Total Bcy\"]].head(10))\n"
   ]
  },
  {
   "cell_type": "code",
   "execution_count": null,
   "id": "6fca527c-4914-461e-9555-39624dc0951f",
   "metadata": {},
   "outputs": [],
   "source": [
    "# Step 10: Cluster Size Counts\n",
    "arabic_counts = arabic_df[\"cluster\"].value_counts()\n",
    "english_counts = english_df[\"cluster\"].value_counts()\n",
    "\n",
    "print(\"Arabic Cluster Sizes (top 10):\")\n",
    "print(arabic_counts.head(10))\n",
    "print(\"\\nEnglish Cluster Sizes (top 10):\")\n",
    "print(english_counts.head(10))\n"
   ]
  },
  {
   "cell_type": "code",
   "execution_count": null,
   "id": "dca8cf35-c262-4544-b711-fdb5e1574a01",
   "metadata": {},
   "outputs": [],
   "source": [
    "# Step 11: Calculate Average Spend per Item per Cluster\n",
    "arabic_avg = arabic_df.groupby(\"cluster\")[\"Total Bcy\"].mean()\n",
    "english_avg = english_df.groupby(\"cluster\")[\"Total Bcy\"].mean()\n",
    "\n",
    "print(\"Arabic Cluster Average Spend per Item:\")\n",
    "print(arabic_avg)\n",
    "print(\"\\nEnglish Cluster Average Spend per Item:\")\n",
    "print(english_avg)\n"
   ]
  },
  {
   "cell_type": "code",
   "execution_count": null,
   "id": "2ebdff3f-c748-4574-8cff-e81038a9e799",
   "metadata": {},
   "outputs": [],
   "source": [
    "# Step 12: Summary of Clusters\n",
    "arabic_summary = arabic_df.groupby(\"cluster\").agg(\n",
    "    cluster_size=(\"Item Name\", \"count\"),\n",
    "    total_spend=(\"Total Bcy\", \"sum\"),\n",
    "    avg_spend=(\"Total Bcy\", \"mean\")\n",
    ").sort_values(by=\"total_spend\", ascending=False)\n",
    "\n",
    "english_summary = english_df.groupby(\"cluster\").agg(\n",
    "    cluster_size=(\"Item Name\", \"count\"),\n",
    "    total_spend=(\"Total Bcy\", \"sum\"),\n",
    "    avg_spend=(\"Total Bcy\", \"mean\")\n",
    ").sort_values(by=\"total_spend\", ascending=False)\n",
    "\n",
    "print(\"Arabic Cluster Summary:\")\n",
    "print(arabic_summary)\n",
    "print(\"\\nEnglish Cluster Summary:\")\n",
    "print(english_summary)\n"
   ]
  },
  {
   "cell_type": "code",
   "execution_count": null,
   "id": "67bb094c-86fa-4b23-8bcc-73aed21c6e1c",
   "metadata": {},
   "outputs": [],
   "source": [
    "# Step 13: Visualize Summary Metrics\n",
    "fig, axes = plt.subplots(2, 3, figsize=(18,10))\n",
    "\n",
    "arabic_summary[\"total_spend\"].plot(kind=\"bar\", ax=axes[0,0], color=\"skyblue\", title=\"Arabic: Total Spend\")\n",
    "axes[0,0].set_ylabel(\"Total Bcy\")\n",
    "arabic_summary[\"avg_spend\"].plot(kind=\"bar\", ax=axes[0,1], color=\"orange\", title=\"Arabic: Avg Spend per Item\")\n",
    "axes[0,1].set_ylabel(\"Bcy per Item\")\n",
    "arabic_summary[\"cluster_size\"].plot(kind=\"bar\", ax=axes[0,2], color=\"green\", title=\"Arabic: Cluster Size\")\n",
    "axes[0,2].set_ylabel(\"Number of Items\")\n",
    "\n",
    "english_summary[\"total_spend\"].plot(kind=\"bar\", ax=axes[1,0], color=\"lightgreen\", title=\"English: Total Spend\")\n",
    "axes[1,0].set_ylabel(\"Total Bcy\")\n",
    "english_summary[\"avg_spend\"].plot(kind=\"bar\", ax=axes[1,1], color=\"salmon\", title=\"English: Avg Spend per Item\")\n",
    "axes[1,1].set_ylabel(\"Bcy per Item\")\n",
    "english_summary[\"cluster_size\"].plot(kind=\"bar\", ax=axes[1,2], color=\"purple\", title=\"English: Cluster Size\")\n",
    "axes[1,2].set_ylabel(\"Number of Items\")\n",
    "\n",
    "plt.tight_layout()\n",
    "plt.show()\n"
   ]
  },
  {
   "cell_type": "code",
   "execution_count": null,
   "id": "4ace0537-d0f4-46eb-8245-d68a633df908",
   "metadata": {},
   "outputs": [],
   "source": [
    "# Final step : Inspect Top Items in Highest Spend Clusters (Summary)\n",
    "top_arabic_cluster = arabic_summary.index[0]\n",
    "print(\"\\nTop Arabic cluster items:\")\n",
    "print(arabic_df[arabic_df[\"cluster\"] == top_arabic_cluster].sort_values(by=\"Total Bcy\", ascending=False).head(10))\n",
    "\n",
    "top_english_cluster = english_summary.index[0]\n",
    "print(\"\\nTop English cluster items:\")\n",
    "print(english_df[english_df[\"cluster\"] == top_english_cluster].sort_values(by=\"Total Bcy\", ascending=False).head(10))\n"
   ]
  }
 ],
 "metadata": {
  "kernelspec": {
   "display_name": "Python 3 (ipykernel)",
   "language": "python",
   "name": "python3"
  },
  "language_info": {
   "codemirror_mode": {
    "name": "ipython",
    "version": 3
   },
   "file_extension": ".py",
   "mimetype": "text/x-python",
   "name": "python",
   "nbconvert_exporter": "python",
   "pygments_lexer": "ipython3",
   "version": "3.13.5"
  }
 },
 "nbformat": 4,
 "nbformat_minor": 5
}
